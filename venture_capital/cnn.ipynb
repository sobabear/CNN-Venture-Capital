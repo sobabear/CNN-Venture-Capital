{
 "cells": [
  {
   "cell_type": "code",
   "execution_count": 69,
   "metadata": {},
   "outputs": [],
   "source": [
    "import pandas as pd\n",
    "from sklearn.model_selection import train_test_split\n",
    "from sklearn.preprocessing import LabelEncoder\n",
    "from torchtext.data.utils import get_tokenizer\n",
    "from torchtext.vocab import build_vocab_from_iterator\n",
    "import torch\n",
    "import torch.nn as nn\n",
    "import torch.nn.functional as F\n",
    "from torch.utils.data import Dataset, DataLoader\n",
    "from torch.nn.utils.rnn import pad_sequence\n",
    "import torch.optim as optim\n",
    "\n",
    "# device = torch.device(\"cuda\" if torch.cuda.is_available() else \"cpu\")\n",
    "device = torch.device(\"cpu\")"
   ]
  },
  {
   "cell_type": "code",
   "execution_count": 63,
   "metadata": {},
   "outputs": [
    {
     "name": "stdout",
     "output_type": "stream",
     "text": [
      "Label classes: ['business' 'captial' 'debt' 'sports']\n"
     ]
    }
   ],
   "source": [
    "\n",
    "\n",
    "data = pd.read_csv('../data/export.csv')\n",
    "\n",
    "data['text'] = data['title'] + \" \" + data['description']\n",
    "\n",
    "label_encoder = LabelEncoder()\n",
    "data['label'] = label_encoder.fit_transform(data['category'])\n",
    "\n",
    "print(\"Label classes:\", label_encoder.classes_)\n",
    "\n",
    "train_texts, test_texts, train_labels, test_labels = train_test_split(\n",
    "    data['text'], data['label'], test_size=0.2, random_state=42\n",
    ")\n"
   ]
  },
  {
   "cell_type": "markdown",
   "metadata": {},
   "source": [
    "# Tokenize"
   ]
  },
  {
   "cell_type": "code",
   "execution_count": 64,
   "metadata": {},
   "outputs": [],
   "source": [
    "tokenizer = get_tokenizer('basic_english')\n",
    "\n",
    "def yield_tokens(data_iter):\n",
    "    for text in data_iter:\n",
    "        yield tokenizer(text)\n",
    "\n",
    "vocab = build_vocab_from_iterator(yield_tokens(train_texts), specials=[\"<unk>\"])\n",
    "vocab.set_default_index(vocab[\"<unk>\"])\n",
    "\n",
    "text_pipeline = lambda x: vocab(tokenizer(x))\n",
    "label_pipeline = lambda x: int(x)\n",
    "\n",
    "def pad_to_min_length(tokens, min_length):\n",
    "    if len(tokens) < min_length:\n",
    "        tokens.extend([0] * (min_length - len(tokens)))\n",
    "    return tokens\n"
   ]
  },
  {
   "cell_type": "markdown",
   "metadata": {},
   "source": [
    "# create data set and data loader"
   ]
  },
  {
   "cell_type": "code",
   "execution_count": 65,
   "metadata": {},
   "outputs": [],
   "source": [
    "\n",
    "\n",
    "class TextClassificationDataset(Dataset):\n",
    "    def __init__(self, texts, labels, text_pipeline, label_pipeline):\n",
    "        self.texts = texts\n",
    "        self.labels = labels\n",
    "        self.text_pipeline = text_pipeline\n",
    "        self.label_pipeline = label_pipeline\n",
    "\n",
    "    def __len__(self):\n",
    "        return len(self.texts)\n",
    "\n",
    "    def __getitem__(self, idx):\n",
    "        text = self.text_pipeline(self.texts.iloc[idx])\n",
    "        text = pad_to_min_length(text, 10) \n",
    "        label = self.label_pipeline(self.labels.iloc[idx])\n",
    "        return torch.tensor(text, dtype=torch.int64), torch.tensor(label, dtype=torch.int64)\n",
    "\n",
    "def collate_batch(batch):\n",
    "    label_list, text_list = [], []\n",
    "    for _text, _label in batch:\n",
    "        label_list.append(_label)\n",
    "        text_list.append(_text)\n",
    "    return pad_sequence(text_list, batch_first=True, padding_value=0), torch.tensor(label_list, dtype=torch.int64)\n",
    "\n",
    "train_dataset = TextClassificationDataset(train_texts, train_labels, text_pipeline, label_pipeline)\n",
    "test_dataset = TextClassificationDataset(test_texts, test_labels, text_pipeline, label_pipeline)\n",
    "\n",
    "train_dataloader = DataLoader(train_dataset, batch_size=32, shuffle=True, collate_fn=collate_batch)\n",
    "test_dataloader = DataLoader(test_dataset, batch_size=32, shuffle=False, collate_fn=collate_batch)\n"
   ]
  },
  {
   "cell_type": "markdown",
   "metadata": {},
   "source": [
    "# Define Modek\n"
   ]
  },
  {
   "cell_type": "code",
   "execution_count": 70,
   "metadata": {},
   "outputs": [],
   "source": [
    "\n",
    "\n",
    "class TextCNN(nn.Module):\n",
    "    def __init__(self, vocab_size, embed_dim, num_class):\n",
    "        super(TextCNN, self).__init__()\n",
    "        self.embedding = nn.Embedding(vocab_size, embed_dim)\n",
    "        self.conv1 = nn.Conv2d(1, 100, (2, embed_dim))\n",
    "        self.conv2 = nn.Conv2d(1, 100, (3, embed_dim))\n",
    "        self.conv3 = nn.Conv2d(1, 100, (4, embed_dim))\n",
    "        self.dropout = nn.Dropout(0.5)\n",
    "        self.fc = nn.Linear(300, num_class)\n",
    "\n",
    "    def forward(self, text):\n",
    "        embedded = self.embedding(text)  # [batch_size, seq_len, embed_dim]\n",
    "        embedded = embedded.unsqueeze(1)  # Add channel dimension: [batch_size, 1, seq_len, embed_dim]\n",
    "        conv1 = F.relu(self.conv1(embedded).squeeze(3))  # [batch_size, 100, seq_len-1]\n",
    "        conv2 = F.relu(self.conv2(embedded).squeeze(3))  # [batch_size, 100, seq_len-2]\n",
    "        conv3 = F.relu(self.conv3(embedded).squeeze(3))  # [batch_size, 100, seq_len-3]\n",
    "        pooled1 = F.max_pool1d(conv1, conv1.size(2)).squeeze(2)  # [batch_size, 100]\n",
    "        pooled2 = F.max_pool1d(conv2, conv2.size(2)).squeeze(2)  # [batch_size, 100]\n",
    "        pooled3 = F.max_pool1d(conv3, conv3.size(2)).squeeze(2)  # [batch_size, 100]\n",
    "        pooled = torch.cat((pooled1, pooled2, pooled3), 1)  # [batch_size, 300]\n",
    "        dropped = self.dropout(pooled)\n",
    "        return self.fc(dropped)\n",
    "\n",
    "vocab_size = len(vocab)\n",
    "embed_dim = 64\n",
    "num_class = len(label_encoder.classes_)\n",
    "\n",
    "model = TextCNN(vocab_size, embed_dim, num_class).to(device)\n"
   ]
  },
  {
   "cell_type": "markdown",
   "metadata": {},
   "source": [
    "# Train Model"
   ]
  },
  {
   "cell_type": "code",
   "execution_count": 71,
   "metadata": {},
   "outputs": [
    {
     "name": "stdout",
     "output_type": "stream",
     "text": [
      "Epoch: 1, Loss: 0.7738236763339111, Accuracy: 0.6362385321100917\n",
      "Epoch: 2, Loss: 0.3549399093009423, Accuracy: 0.8637614678899083\n",
      "Epoch: 3, Loss: 0.22011934015629947, Accuracy: 0.9137614678899083\n",
      "Epoch: 4, Loss: 0.1770742992884007, Accuracy: 0.9311926605504587\n",
      "Epoch: 5, Loss: 0.11001681585026823, Accuracy: 0.9605504587155963\n",
      "Epoch: 6, Loss: 0.09978864275836859, Accuracy: 0.9642201834862385\n",
      "Epoch: 7, Loss: 0.0927256397444053, Accuracy: 0.9642201834862385\n",
      "Epoch: 8, Loss: 0.06472936972462828, Accuracy: 0.9775229357798165\n",
      "Epoch: 9, Loss: 0.053077777435976095, Accuracy: 0.9811926605504587\n",
      "Epoch: 10, Loss: 0.04461906292050591, Accuracy: 0.9871559633027523\n",
      "Test Loss: 0.033229712293379836, Test Accuracy: 0.9908424908424909\n"
     ]
    }
   ],
   "source": [
    "\n",
    "\n",
    "num_epochs = 10\n",
    "learning_rate = 0.001\n",
    "\n",
    "# Define loss and optimizer\n",
    "criterion = nn.CrossEntropyLoss()\n",
    "optimizer = optim.Adam(model.parameters(), lr=learning_rate)\n",
    "\n",
    "# epoch\n",
    "for epoch in range(num_epochs):\n",
    "    model.train()\n",
    "    total_acc, total_loss = 0, 0\n",
    "    for text, label in train_dataloader:\n",
    "        text, label = text.to(device), label.to(device)\n",
    "        optimizer.zero_grad()\n",
    "        output = model(text)\n",
    "        loss = criterion(output, label)\n",
    "        loss.backward()\n",
    "        optimizer.step()\n",
    "        total_loss += loss.item()\n",
    "        total_acc += (output.argmax(1) == label).sum().item()\n",
    "    print(f'Epoch: {epoch+1}, Loss: {total_loss / len(train_dataloader)}, Accuracy: {total_acc / len(train_dataset)}')\n",
    "\n",
    "# Evaluation\n",
    "model.eval()\n",
    "total_acc, total_loss = 0, 0\n",
    "with torch.no_grad():\n",
    "    for text, label in test_dataloader:\n",
    "        text, label = text.to(device), label.to(device)\n",
    "        output = model(text)\n",
    "        loss = criterion(output, label)\n",
    "        total_loss += loss.item()\n",
    "        total_acc += (output.argmax(1) == label).sum().item()\n",
    "print(f'Test Loss: {total_loss / len(test_dataloader)}, Test Accuracy: {total_acc / len(test_dataset)}')\n"
   ]
  },
  {
   "cell_type": "markdown",
   "metadata": {},
   "source": [
    "# Evaluate Model"
   ]
  },
  {
   "cell_type": "markdown",
   "metadata": {},
   "source": [
    "## Eval another test code"
   ]
  },
  {
   "cell_type": "code",
   "execution_count": 72,
   "metadata": {},
   "outputs": [
    {
     "name": "stdout",
     "output_type": "stream",
     "text": [
      "Test 1 is about venture capital\n",
      "Test 2 is not about venture capital\n",
      "Test 3 is about venture capital\n",
      "Test 4 is not about venture capital\n",
      "Test 5 is not about venture capital\n",
      "Test 6 is not about venture capital\n",
      "Test 7 is about venture capital\n"
     ]
    }
   ],
   "source": [
    "def preprocess_text(text, min_length=10): \n",
    "    tokens = vocab(tokenizer(text))\n",
    "    tokens = pad_to_min_length(tokens, min_length)\n",
    "    return torch.tensor(tokens, dtype=torch.int64).unsqueeze(0) \n",
    "\n",
    "def predict(model, text, min_length=10):\n",
    "    model.eval()\n",
    "    with torch.no_grad():\n",
    "        processed_text = preprocess_text(text, min_length).to(device)\n",
    "        output = model(processed_text)\n",
    "        prediction = output.argmax(1).item()\n",
    "        return prediction\n",
    "\n",
    "def evaluate_texts(model, texts, min_length=10):\n",
    "    for i, text in enumerate(texts, 1):\n",
    "        prediction = predict(model, text, min_length)\n",
    "        category = label_encoder.inverse_transform([prediction])[0]\n",
    "        result = \"about venture capital\" if category == \"captial\" else \"not about venture capital\"\n",
    "        print(f\"Test {i} is {result}\")\n",
    "\n",
    "test1 = \"New startup raises $20M in Series B funding\"\n",
    "test2 = \"New VC fund launches with $100M\"\n",
    "test3 = \"Startup raises $10M in Series A funding\"\n",
    "test4 = \"Technology conference in San Francisco\"\n",
    "test5 = \"New VC fund launches with $100M\"\n",
    "test6 = \"Kakao Healthcare raised $130M in Debt Capital from Anchor Equity Partners\"\n",
    "test7 = \"Kakao Healthcare raised $100M in Series A funding\"\n",
    "\n",
    "evaluate_texts(model, [test1, test2, test3, test4, test5, test6, test7])\n"
   ]
  }
 ],
 "metadata": {
  "kernelspec": {
   "display_name": ".venv",
   "language": "python",
   "name": "python3"
  },
  "language_info": {
   "codemirror_mode": {
    "name": "ipython",
    "version": 3
   },
   "file_extension": ".py",
   "mimetype": "text/x-python",
   "name": "python",
   "nbconvert_exporter": "python",
   "pygments_lexer": "ipython3",
   "version": "3.12.3"
  }
 },
 "nbformat": 4,
 "nbformat_minor": 2
}
