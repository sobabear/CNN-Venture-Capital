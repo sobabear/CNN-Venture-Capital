{
 "cells": [
  {
   "cell_type": "code",
   "execution_count": 2,
   "metadata": {},
   "outputs": [],
   "source": [
    "import pandas as pd\n",
    "from sklearn.model_selection import train_test_split\n",
    "from sklearn.preprocessing import LabelEncoder\n",
    "\n",
    "# Load the data\n",
    "data = pd.read_csv('../data/database.csv')\n",
    "\n",
    "# Combine relevant text columns (e.g., title, description, summary)\n",
    "data['text'] = data['title'] + \" \" + data['description']\n",
    "\n",
    "# Encode the labels\n",
    "label_encoder = LabelEncoder()\n",
    "data['label'] = label_encoder.fit_transform(data['category'])\n",
    "\n",
    "# Split the data into training and testing sets\n",
    "train_texts, test_texts, train_labels, test_labels = train_test_split(\n",
    "    data['text'], data['label'], test_size=0.2, random_state=42\n",
    ")"
   ]
  },
  {
   "cell_type": "markdown",
   "metadata": {},
   "source": [
    "# Tokenize"
   ]
  },
  {
   "cell_type": "code",
   "execution_count": 7,
   "metadata": {},
   "outputs": [],
   "source": [
    "from torchtext.data.utils import get_tokenizer\n",
    "from torchtext.vocab import build_vocab_from_iterator\n",
    "import torch\n",
    "\n",
    "tokenizer = get_tokenizer('basic_english')\n",
    "\n",
    "def yield_tokens(data_iter):\n",
    "    for text in data_iter:\n",
    "        yield tokenizer(text)\n",
    "\n",
    "# Build vocabulary\n",
    "vocab = build_vocab_from_iterator(yield_tokens(train_texts), specials=[\"<unk>\"])\n",
    "vocab.set_default_index(vocab[\"<unk>\"])\n",
    "\n",
    "# Define text pipeline\n",
    "text_pipeline = lambda x: vocab(tokenizer(x))\n",
    "label_pipeline = lambda x: int(x)\n",
    "\n",
    "# Padding function\n",
    "def pad_to_min_length(tokens, min_length):\n",
    "    if len(tokens) < min_length:\n",
    "        tokens.extend([0] * (min_length - len(tokens)))\n",
    "    return tokens\n",
    "\n"
   ]
  },
  {
   "cell_type": "markdown",
   "metadata": {},
   "source": [
    "# create data set and data loader"
   ]
  },
  {
   "cell_type": "code",
   "execution_count": 7,
   "metadata": {},
   "outputs": [],
   "source": [
    "from torch.utils.data import Dataset, DataLoader\n",
    "from torch.nn.utils.rnn import pad_sequence\n",
    "\n",
    "class TextClassificationDataset(Dataset):\n",
    "    def __init__(self, texts, labels, text_pipeline, label_pipeline):\n",
    "        self.texts = texts\n",
    "        self.labels = labels\n",
    "        self.text_pipeline = text_pipeline\n",
    "        self.label_pipeline = label_pipeline\n",
    "\n",
    "    def __len__(self):\n",
    "        return len(self.texts)\n",
    "\n",
    "    def __getitem__(self, idx):\n",
    "        text = self.text_pipeline(self.texts.iloc[idx])\n",
    "        label = self.label_pipeline(self.labels.iloc[idx])\n",
    "        return torch.tensor(text, dtype=torch.int64), torch.tensor(label, dtype=torch.int64)\n",
    "\n",
    "def collate_batch(batch):\n",
    "    label_list, text_list = [], []\n",
    "    for _text, _label in batch:\n",
    "        label_list.append(_label)\n",
    "        text_list.append(torch.tensor(_text, dtype=torch.int64))\n",
    "    text_list = [pad_to_min_length(t.tolist(), 10) for t in text_list]  # Ensure minimum length\n",
    "    return pad_sequence([torch.tensor(t) for t in text_list], batch_first=True, padding_value=0), torch.tensor(label_list, dtype=torch.int64)\n",
    "\n",
    "# Create datasets\n",
    "train_dataset = TextClassificationDataset(train_texts, train_labels, text_pipeline, label_pipeline)\n",
    "test_dataset = TextClassificationDataset(test_texts, test_labels, text_pipeline, label_pipeline)\n",
    "\n",
    "# Create dataloaders\n",
    "train_dataloader = DataLoader(train_dataset, batch_size=32, shuffle=True, collate_fn=collate_batch)\n",
    "test_dataloader = DataLoader(test_dataset, batch_size=32, shuffle=False, collate_fn=collate_batch)\n"
   ]
  },
  {
   "cell_type": "markdown",
   "metadata": {},
   "source": [
    "# Generate Modek\n"
   ]
  },
  {
   "cell_type": "code",
   "execution_count": 9,
   "metadata": {},
   "outputs": [],
   "source": [
    "import torch.nn as nn\n",
    "import torch.nn.functional as F\n",
    "import torch\n",
    "device = torch.device(\"cuda\" if torch.cuda.is_available() else \"cpu\")\n",
    "\n",
    "class TextCNN(nn.Module):\n",
    "    def __init__(self, vocab_size, embed_dim, num_class):\n",
    "        super(TextCNN, self).__init__()\n",
    "        self.embedding = nn.Embedding(vocab_size, embed_dim)\n",
    "        self.conv1 = nn.Conv2d(1, 100, (2, embed_dim))\n",
    "        self.conv2 = nn.Conv2d(1, 100, (3, embed_dim))\n",
    "        self.conv3 = nn.Conv2d(1, 100, (4, embed_dim))\n",
    "        self.dropout = nn.Dropout(0.5)\n",
    "        self.fc = nn.Linear(300, num_class)\n",
    "\n",
    "    def forward(self, text):\n",
    "        embedded = self.embedding(text)  # [batch_size, seq_len, embed_dim]\n",
    "        embedded = embedded.unsqueeze(1)  # Add channel dimension: [batch_size, 1, seq_len, embed_dim]\n",
    "        conv1 = F.relu(self.conv1(embedded).squeeze(3))  # [batch_size, 100, seq_len-1]\n",
    "        conv2 = F.relu(self.conv2(embedded).squeeze(3))  # [batch_size, 100, seq_len-2]\n",
    "        conv3 = F.relu(self.conv3(embedded).squeeze(3))  # [batch_size, 100, seq_len-3]\n",
    "        pooled1 = F.max_pool1d(conv1, conv1.size(2)).squeeze(2)  # [batch_size, 100]\n",
    "        pooled2 = F.max_pool1d(conv2, conv2.size(2)).squeeze(2)  # [batch_size, 100]\n",
    "        pooled3 = F.max_pool1d(conv3, conv3.size(2)).squeeze(2)  # [batch_size, 100]\n",
    "        pooled = torch.cat((pooled1, pooled2, pooled3), 1)  # [batch_size, 300]\n",
    "        dropped = self.dropout(pooled)\n",
    "        return self.fc(dropped)\n",
    "\n",
    "# Define hyperparameters\n",
    "vocab_size = len(vocab)\n",
    "embed_dim = 64\n",
    "num_class = len(label_encoder.classes_)\n",
    "\n",
    "# Initialize the model\n",
    "model = TextCNN(vocab_size, embed_dim, num_class).to(device)\n"
   ]
  },
  {
   "cell_type": "markdown",
   "metadata": {},
   "source": [
    "# Train Model"
   ]
  },
  {
   "cell_type": "code",
   "execution_count": 16,
   "metadata": {},
   "outputs": [
    {
     "name": "stderr",
     "output_type": "stream",
     "text": [
      "/var/folders/r5/_mb5jdtd5sqdqcy7v9q5mzym0000gn/T/ipykernel_93462/2609678327.py:23: UserWarning: To copy construct from a tensor, it is recommended to use sourceTensor.clone().detach() or sourceTensor.clone().detach().requires_grad_(True), rather than torch.tensor(sourceTensor).\n",
      "  text_list.append(torch.tensor(_text, dtype=torch.int64))\n"
     ]
    },
    {
     "name": "stdout",
     "output_type": "stream",
     "text": [
      "Epoch: 1, Loss: 0.1028687134385109, Accuracy: 1.0\n",
      "Epoch: 2, Loss: 0.1258189082145691, Accuracy: 0.9259259259259259\n",
      "Epoch: 3, Loss: 0.18206366896629333, Accuracy: 0.9259259259259259\n",
      "Epoch: 4, Loss: 0.18366214632987976, Accuracy: 0.8888888888888888\n",
      "Epoch: 5, Loss: 0.0896931141614914, Accuracy: 1.0\n",
      "Epoch: 6, Loss: 0.12098497897386551, Accuracy: 0.9629629629629629\n",
      "Epoch: 7, Loss: 0.09514112770557404, Accuracy: 0.9629629629629629\n",
      "Epoch: 8, Loss: 0.12605875730514526, Accuracy: 0.9629629629629629\n",
      "Epoch: 9, Loss: 0.041234757751226425, Accuracy: 1.0\n",
      "Epoch: 10, Loss: 0.06213943287730217, Accuracy: 1.0\n",
      "Epoch: 11, Loss: 0.04084010794758797, Accuracy: 1.0\n",
      "Epoch: 12, Loss: 0.030329955741763115, Accuracy: 1.0\n",
      "Epoch: 13, Loss: 0.02694159373641014, Accuracy: 1.0\n",
      "Epoch: 14, Loss: 0.06088976934552193, Accuracy: 0.9629629629629629\n",
      "Epoch: 15, Loss: 0.05064237490296364, Accuracy: 0.9629629629629629\n",
      "Epoch: 16, Loss: 0.008770997636020184, Accuracy: 1.0\n",
      "Epoch: 17, Loss: 0.02402966283261776, Accuracy: 1.0\n",
      "Epoch: 18, Loss: 0.05920925363898277, Accuracy: 1.0\n",
      "Epoch: 19, Loss: 0.018996145576238632, Accuracy: 1.0\n",
      "Epoch: 20, Loss: 0.008225979283452034, Accuracy: 1.0\n",
      "Epoch: 21, Loss: 0.015805644914507866, Accuracy: 1.0\n",
      "Epoch: 22, Loss: 0.00984265562146902, Accuracy: 1.0\n",
      "Epoch: 23, Loss: 0.015050400979816914, Accuracy: 1.0\n",
      "Epoch: 24, Loss: 0.013178982771933079, Accuracy: 1.0\n",
      "Epoch: 25, Loss: 0.014870740473270416, Accuracy: 1.0\n",
      "Epoch: 26, Loss: 0.0044708275236189365, Accuracy: 1.0\n",
      "Epoch: 27, Loss: 0.007811111863702536, Accuracy: 1.0\n",
      "Epoch: 28, Loss: 0.006110538262873888, Accuracy: 1.0\n",
      "Epoch: 29, Loss: 0.008424232713878155, Accuracy: 1.0\n",
      "Epoch: 30, Loss: 0.006601116620004177, Accuracy: 1.0\n",
      "Test Loss: 0.5163837671279907, Test Accuracy: 0.7142857142857143\n"
     ]
    }
   ],
   "source": [
    "import torch.optim as optim\n",
    "\n",
    "# Training parameters\n",
    "num_epochs = 30\n",
    "learning_rate = 0.001\n",
    "\n",
    "# Define loss and optimizer\n",
    "criterion = nn.CrossEntropyLoss()\n",
    "optimizer = optim.Adam(model.parameters(), lr=learning_rate)\n",
    "\n",
    "# Training loop\n",
    "for epoch in range(num_epochs):\n",
    "    model.train()\n",
    "    total_acc, total_loss = 0, 0\n",
    "    for text, label in train_dataloader:\n",
    "        text, label = text.to(device), label.to(device)\n",
    "        optimizer.zero_grad()\n",
    "        output = model(text)\n",
    "        loss = criterion(output, label)\n",
    "        loss.backward()\n",
    "        optimizer.step()\n",
    "        total_loss += loss.item()\n",
    "        total_acc += (output.argmax(1) == label).sum().item()\n",
    "    print(f'Epoch: {epoch+1}, Loss: {total_loss / len(train_dataloader)}, Accuracy: {total_acc / len(train_dataset)}')\n",
    "\n",
    "# Evaluation\n",
    "model.eval()\n",
    "total_acc, total_loss = 0, 0\n",
    "with torch.no_grad():\n",
    "    for text, label in test_dataloader:\n",
    "        text, label = text.to(device), label.to(device)\n",
    "        output = model(text)\n",
    "        loss = criterion(output, label)\n",
    "        total_loss += loss.item()\n",
    "        total_acc += (output.argmax(1) == label).sum().item()\n",
    "print(f'Test Loss: {total_loss / len(test_dataloader)}, Test Accuracy: {total_acc / len(test_dataset)}')\n"
   ]
  },
  {
   "cell_type": "markdown",
   "metadata": {},
   "source": [
    "# Evaluate Model"
   ]
  },
  {
   "cell_type": "code",
   "execution_count": 17,
   "metadata": {},
   "outputs": [
    {
     "name": "stdout",
     "output_type": "stream",
     "text": [
      "Test Loss: 0.5163837671279907, Test Accuracy: 0.7142857142857143\n"
     ]
    },
    {
     "name": "stderr",
     "output_type": "stream",
     "text": [
      "/var/folders/r5/_mb5jdtd5sqdqcy7v9q5mzym0000gn/T/ipykernel_93462/2609678327.py:23: UserWarning: To copy construct from a tensor, it is recommended to use sourceTensor.clone().detach() or sourceTensor.clone().detach().requires_grad_(True), rather than torch.tensor(sourceTensor).\n",
      "  text_list.append(torch.tensor(_text, dtype=torch.int64))\n"
     ]
    }
   ],
   "source": [
    "# Evaluation\n",
    "model.eval()\n",
    "total_acc, total_loss = 0, 0\n",
    "with torch.no_grad():\n",
    "    for text, label in test_dataloader:\n",
    "        text, label = text.to(device), label.to(device)\n",
    "        output = model(text)\n",
    "        loss = criterion(output, label)\n",
    "        total_loss += loss.item()\n",
    "        total_acc += (output.argmax(1) == label).sum().item()\n",
    "print(f'Test Loss: {total_loss / len(test_dataloader)}, Test Accuracy: {total_acc / len(test_dataset)}')\n"
   ]
  },
  {
   "cell_type": "markdown",
   "metadata": {},
   "source": [
    "## Eval another test code"
   ]
  },
  {
   "cell_type": "code",
   "execution_count": 18,
   "metadata": {},
   "outputs": [
    {
     "name": "stdout",
     "output_type": "stream",
     "text": [
      "Test 1 is captial\n",
      "Test 2 is captial\n",
      "Test 3 is captial\n",
      "Test 4 is captial\n",
      "Test 5 is captial\n"
     ]
    }
   ],
   "source": [
    "def preprocess_text(text, min_length=10):  # Ensure a minimum length for the text\n",
    "    # Tokenize and transform the text\n",
    "    tokens = vocab(tokenizer(text))\n",
    "    tokens = pad_to_min_length(tokens, min_length)\n",
    "    return torch.tensor(tokens, dtype=torch.int64).unsqueeze(0)  # Add batch dimension\n",
    "\n",
    "def predict(model, text, min_length=10):\n",
    "    model.eval()\n",
    "    with torch.no_grad():\n",
    "        processed_text = preprocess_text(text, min_length).to(device)\n",
    "        output = model(processed_text)\n",
    "        prediction = output.argmax(1).item()\n",
    "        return prediction\n",
    "\n",
    "def evaluate_texts(model, texts, min_length=10):\n",
    "    for i, text in enumerate(texts, 1):\n",
    "        prediction = predict(model, text, min_length)\n",
    "        category = label_encoder.inverse_transform([prediction])[0]\n",
    "        # result = \"about venture capital\" if category == \"captial\" else \"not about venture capital\"\n",
    "        print(f\"Test {i} is {category}\")\n",
    "\n",
    "# Example test strings\n",
    "test1 = \"debt debt debt\"\n",
    "test2 = \"Venture capital debt\"\n",
    "test3 = \"Startup raises $10M in Series A funding\"\n",
    "test4 = \"Technology conference in San Francisco\"\n",
    "test5 = \"New VC fund launches with $100M\"\n",
    "\n",
    "# Evaluate and print results\n",
    "evaluate_texts(model, [test1, test2, test3, test4, test5])\n"
   ]
  }
 ],
 "metadata": {
  "kernelspec": {
   "display_name": ".venv",
   "language": "python",
   "name": "python3"
  },
  "language_info": {
   "codemirror_mode": {
    "name": "ipython",
    "version": 3
   },
   "file_extension": ".py",
   "mimetype": "text/x-python",
   "name": "python",
   "nbconvert_exporter": "python",
   "pygments_lexer": "ipython3",
   "version": "3.12.3"
  }
 },
 "nbformat": 4,
 "nbformat_minor": 2
}
